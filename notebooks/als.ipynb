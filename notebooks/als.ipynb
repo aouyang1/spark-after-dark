{
 "cells": [
  {
   "cell_type": "code",
   "execution_count": 1,
   "metadata": {
    "collapsed": false
   },
   "outputs": [],
   "source": [
    "from pyspark.mllib.recommendation import ALS\n",
    "from pyspark.mllib.recommendation import Rating"
   ]
  },
  {
   "cell_type": "code",
   "execution_count": 2,
   "metadata": {
    "collapsed": false
   },
   "outputs": [
    {
     "data": {
      "text/plain": [
       "[u'1,133,8',\n",
       " u'1,720,6',\n",
       " u'1,971,10',\n",
       " u'1,1095,7',\n",
       " u'1,1616,10',\n",
       " u'1,1978,7',\n",
       " u'1,2145,8',\n",
       " u'1,2211,8',\n",
       " u'1,3751,7',\n",
       " u'1,4062,3']"
      ]
     },
     "execution_count": 2,
     "metadata": {},
     "output_type": "execute_result"
    }
   ],
   "source": [
    "# Read in the ratings file (fromUserId, toUserId, rating).  These ratings are 0-9.\n",
    "rawRatingsRDD = sc.textFile(\"s3n://insight-spark-after-dark/ratings.csv.gz\")\n",
    "rawRatingsRDD.take(10)"
   ]
  },
  {
   "cell_type": "code",
   "execution_count": null,
   "metadata": {
    "collapsed": true
   },
   "outputs": [],
   "source": [
    "rawRatingsRDD.count()"
   ]
  },
  {
   "cell_type": "code",
   "execution_count": 3,
   "metadata": {
    "collapsed": true
   },
   "outputs": [],
   "source": [
    "# Create mllib.recommendation.Rating RDD from raw ratings input data\n",
    "def rec_tup(row):\n",
    "    tokens = row.split(\",\")\n",
    "    return Rating(int(tokens[0]), int(tokens[1]), int(tokens[2]))\n",
    "\n",
    "ratingsRDD = rawRatingsRDD.map(rec_tup)"
   ]
  },
  {
   "cell_type": "code",
   "execution_count": 4,
   "metadata": {
    "collapsed": true
   },
   "outputs": [],
   "source": [
    "# Separate ratings data into training data (80%) and test data (20%)\n",
    "splitRatingsRDD = ratingsRDD.randomSplit([0.8, 0.2])\n",
    "trainingRatingsRDD = splitRatingsRDD[0]\n",
    "knownTestRatingsRDD = splitRatingsRDD[1]"
   ]
  },
  {
   "cell_type": "code",
   "execution_count": 5,
   "metadata": {
    "collapsed": false
   },
   "outputs": [],
   "source": [
    "# Train the ALS model using the training data and various model hyperparameters\n",
    "model = ALS.train(trainingRatingsRDD, 1, 5, 0.01, 10)"
   ]
  },
  {
   "cell_type": "code",
   "execution_count": 6,
   "metadata": {
    "collapsed": false
   },
   "outputs": [],
   "source": [
    "# Compare predictions against the known test data\n",
    "def rec_tup(rating_row):    \n",
    "    return (rating_row.user, rating_row.product)\n",
    "\n",
    "#knownTestFromToRDD = knownTestRatingsRDD.map(lambda r: (r[0], r[1]))\n",
    "knownTestFromToRDD = knownTestRatingsRDD.map(rec_tup)"
   ]
  },
  {
   "cell_type": "code",
   "execution_count": 7,
   "metadata": {
    "collapsed": false
   },
   "outputs": [
    {
     "data": {
      "text/plain": [
       "[Rating(user=116685, product=193370, rating=5.528812041031813),\n",
       " Rating(user=54883, product=108150, rating=8.683123112274984),\n",
       " Rating(user=33416, product=108150, rating=6.631991761983102),\n",
       " Rating(user=62422, product=108150, rating=8.583980144995792),\n",
       " Rating(user=55650, product=28730, rating=7.393950083170125),\n",
       " Rating(user=63293, product=28730, rating=7.613931757845535),\n",
       " Rating(user=127227, product=28730, rating=7.507604533863969),\n",
       " Rating(user=41675, product=28730, rating=6.404783041859787),\n",
       " Rating(user=99848, product=28730, rating=8.706459374215797),\n",
       " Rating(user=128881, product=18500, rating=9.486194904775857)]"
      ]
     },
     "execution_count": 7,
     "metadata": {},
     "output_type": "execute_result"
    }
   ],
   "source": [
    "# Test the model by predicting the ratings for the known test data\n",
    "actualPredictionsRDD = model.predictAll(knownTestFromToRDD)\n",
    "\n",
    "actualPredictionsRDD.take(10)"
   ]
  },
  {
   "cell_type": "code",
   "execution_count": 11,
   "metadata": {
    "collapsed": false
   },
   "outputs": [],
   "source": [
    "# Prepare the known test predictions and actual predictions for comparison\n",
    "def rec_tup(rating_row):\n",
    "    return ((rating_row[0], rating_row[1]), rating_row[2])\n",
    "\n",
    "actualPredictionsKeyedByFromToRDD = actualPredictionsRDD.map(rec_tup)\n",
    "testPredictionsKeyedByFromToRDD = knownTestRatingsRDD.map(rec_tup)"
   ]
  },
  {
   "cell_type": "code",
   "execution_count": 12,
   "metadata": {
    "collapsed": false
   },
   "outputs": [
    {
     "data": {
      "text/plain": [
       "[((81423, 5113), (2, 4.3594495368705)),\n",
       " ((89913, 83773), (6, 6.930871660005323)),\n",
       " ((52884, 22327), (7, 6.965454999332394)),\n",
       " ((63502, 190866), (10, 9.295794187756655)),\n",
       " ((85983, 168324), (7, 4.430503718902514)),\n",
       " ((108613, 210193), (1, 2.274421179760509)),\n",
       " ((95095, 10941), (5, 2.0409082294914214)),\n",
       " ((29058, 71636), (10, 7.065374332092119)),\n",
       " ((52502, 118322), (10, 8.511748018306434)),\n",
       " ((15180, 70961), (3, 3.2493501618394305))]"
      ]
     },
     "execution_count": 12,
     "metadata": {},
     "output_type": "execute_result"
    }
   ],
   "source": [
    "# Join the known test predictions with the actual predictions\n",
    "testRatingsAndActualPredictionsJoinedRDD = testPredictionsKeyedByFromToRDD.join(actualPredictionsKeyedByFromToRDD)\n",
    "testRatingsAndActualPredictionsJoinedRDD.take(10)"
   ]
  },
  {
   "cell_type": "code",
   "execution_count": null,
   "metadata": {
    "collapsed": true
   },
   "outputs": [],
   "source": [
    "testPredictionsKeyedByFromToRDD.count()"
   ]
  },
  {
   "cell_type": "code",
   "execution_count": 13,
   "metadata": {
    "collapsed": false
   },
   "outputs": [
    {
     "name": "stdout",
     "output_type": "stream",
     "text": [
      "2.7117627896\n"
     ]
    }
   ],
   "source": [
    "# Evaluate the model using Mean Absolute Error (MAE) between the known test ratings and the actual predictions \n",
    "def rec_tup(record):\n",
    "    return abs(record[1][0] - record[1][1])\n",
    "\n",
    "meanAbsoluteError = testRatingsAndActualPredictionsJoinedRDD.map(rec_tup).mean()\n",
    "\n",
    "print meanAbsoluteError"
   ]
  },
  {
   "cell_type": "code",
   "execution_count": null,
   "metadata": {
    "collapsed": true
   },
   "outputs": [],
   "source": []
  }
 ],
 "metadata": {
  "kernelspec": {
   "display_name": "Python 2",
   "language": "python",
   "name": "python2"
  },
  "language_info": {
   "codemirror_mode": {
    "name": "ipython",
    "version": 2
   },
   "file_extension": ".py",
   "mimetype": "text/x-python",
   "name": "python",
   "nbconvert_exporter": "python",
   "pygments_lexer": "ipython2",
   "version": "2.7.9"
  }
 },
 "nbformat": 4,
 "nbformat_minor": 0
}
