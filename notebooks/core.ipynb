{
 "cells": [
  {
   "cell_type": "code",
   "execution_count": 14,
   "metadata": {
    "collapsed": false,
    "scrolled": true
   },
   "outputs": [
    {
     "data": {
      "text/plain": [
       "[u'10001,Tony',\n",
       " u'10002,Mike',\n",
       " u'10003,Pat',\n",
       " u'10004,Chris',\n",
       " u'10005,Paco',\n",
       " u'10006,Eddie',\n",
       " u'90001,Lisa',\n",
       " u'90002,Cindy',\n",
       " u'90003,Paula',\n",
       " u'90004,Leslie',\n",
       " u'90005,Allman',\n",
       " u'90006,Kimberly']"
      ]
     },
     "execution_count": 14,
     "metadata": {},
     "output_type": "execute_result"
    }
   ],
   "source": [
    "rawUsersRDD = sc.textFile(\"s3n://insight-spark-after-dark/users-sm.csv\")\n",
    "rawUsersRDD.collect()"
   ]
  },
  {
   "cell_type": "code",
   "execution_count": 15,
   "metadata": {
    "collapsed": false
   },
   "outputs": [
    {
     "data": {
      "text/plain": [
       "[u'10001,M',\n",
       " u'10002,M',\n",
       " u'10003,M',\n",
       " u'10004,M',\n",
       " u'10005,M',\n",
       " u'10006,M',\n",
       " u'90001,F',\n",
       " u'90002,F',\n",
       " u'90003,F',\n",
       " u'90004,F',\n",
       " u'90005,F',\n",
       " u'90006,F']"
      ]
     },
     "execution_count": 15,
     "metadata": {},
     "output_type": "execute_result"
    }
   ],
   "source": [
    "rawGendersRDD = sc.textFile(\"s3n://insight-spark-after-dark/gender-sm.csv\")\n",
    "rawGendersRDD.collect()"
   ]
  },
  {
   "cell_type": "code",
   "execution_count": 19,
   "metadata": {
    "collapsed": true
   },
   "outputs": [],
   "source": [
    "def rec_tup(record):\n",
    "    tokens = record.split(\",\")\n",
    "    return (int(tokens[0]), str(tokens[1]))"
   ]
  },
  {
   "cell_type": "code",
   "execution_count": null,
   "metadata": {
    "collapsed": true
   },
   "outputs": [],
   "source": [
    "usersRDD = rawUsersRDD.map(rec_tup)\n",
    "usersRDD.collect()"
   ]
  },
  {
   "cell_type": "code",
   "execution_count": null,
   "metadata": {
    "collapsed": true
   },
   "outputs": [],
   "source": [
    "gendersRDD = rawGendersRDD.map(rec_tup)\n",
    "gendersRDD.collect()"
   ]
  },
  {
   "cell_type": "code",
   "execution_count": 21,
   "metadata": {
    "collapsed": false
   },
   "outputs": [
    {
     "data": {
      "text/plain": [
       "[(90004, ('Leslie', 'F')),\n",
       " (10004, ('Chris', 'M')),\n",
       " (90005, ('Allman', 'F')),\n",
       " (90001, ('Lisa', 'F')),\n",
       " (10005, ('Paco', 'M')),\n",
       " (10001, ('Tony', 'M')),\n",
       " (90006, ('Kimberly', 'F')),\n",
       " (10002, ('Mike', 'M')),\n",
       " (90002, ('Cindy', 'F')),\n",
       " (10006, ('Eddie', 'M')),\n",
       " (10003, ('Pat', 'M')),\n",
       " (90003, ('Paula', 'F'))]"
      ]
     },
     "execution_count": 21,
     "metadata": {},
     "output_type": "execute_result"
    }
   ],
   "source": [
    "usersWithGenderJoinedRDD = usersRDD.join(gendersRDD)\n",
    "usersWithGenderJoinedRDD.collect()"
   ]
  }
 ],
 "metadata": {
  "kernelspec": {
   "display_name": "Python 2",
   "language": "python",
   "name": "python2"
  },
  "language_info": {
   "codemirror_mode": {
    "name": "ipython",
    "version": 2
   },
   "file_extension": ".py",
   "mimetype": "text/x-python",
   "name": "python",
   "nbconvert_exporter": "python",
   "pygments_lexer": "ipython2",
   "version": "2.7.9"
  }
 },
 "nbformat": 4,
 "nbformat_minor": 0
}
